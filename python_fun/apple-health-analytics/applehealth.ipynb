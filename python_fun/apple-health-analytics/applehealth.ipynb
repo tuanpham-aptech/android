{
 "cells": [
  {
   "cell_type": "code",
   "execution_count": 63,
   "id": "b8d3b21b",
   "metadata": {},
   "outputs": [],
   "source": [
    "import xml.etree.ElementTree as ET\n",
    "#from lxml import etree\n",
    "import pandas as pd\n",
    "import time\n",
    "import numpy as np\n",
    "import datetime as dt\n",
    "# dt.datetime.strptime"
   ]
  },
  {
   "cell_type": "code",
   "execution_count": 64,
   "id": "87e15e18",
   "metadata": {},
   "outputs": [],
   "source": [
    "# create element tree object\n",
    "\n",
    "tree = ET.parse('data/export.xml') \n",
    "# for every health record, extract the attributes into a dictionary (columns). Then create a list (rows)\n",
    "root = tree.getroot()\n",
    "record_list = [x.attrib for x in root.iter('Record')]\n",
    "\n",
    "# create DataFrame from a list (rows) of dictionaries (columns)\n",
    "record_data = pd.DataFrame(record_list)\n",
    "\n",
    "# proper type to dates\n",
    "for col in ['creationDate', 'startDate', 'endDate']:\n",
    "    record_data[col] = pd.to_datetime(record_data[col])\n",
    "\n",
    "# value is numeric, NaN if fails\n",
    "record_data['value'] = pd.to_numeric(record_data['value'], errors='coerce')\n",
    "\n",
    "# some records do not measure anything, just count occurences\n",
    "# filling with 1.0 (= one time) makes it easier to aggregate\n",
    "record_data['value'] = record_data['value'].fillna(1.0)\n",
    "\n",
    "# shorter observation names: use vectorized replace function\n",
    "record_data['type'] = record_data['type'].str.replace('HKQuantityTypeIdentifier', '')\n",
    "record_data['type'] = record_data['type'].str.replace('HKCategoryTypeIdentifier', '')"
   ]
  },
  {
   "cell_type": "code",
   "execution_count": 65,
   "id": "5d40e382",
   "metadata": {},
   "outputs": [
    {
     "data": {
      "text/html": [
       "<div>\n",
       "<style scoped>\n",
       "    .dataframe tbody tr th:only-of-type {\n",
       "        vertical-align: middle;\n",
       "    }\n",
       "\n",
       "    .dataframe tbody tr th {\n",
       "        vertical-align: top;\n",
       "    }\n",
       "\n",
       "    .dataframe thead th {\n",
       "        text-align: right;\n",
       "    }\n",
       "</style>\n",
       "<table border=\"1\" class=\"dataframe\">\n",
       "  <thead>\n",
       "    <tr style=\"text-align: right;\">\n",
       "      <th></th>\n",
       "      <th>type</th>\n",
       "      <th>sourceName</th>\n",
       "      <th>sourceVersion</th>\n",
       "      <th>unit</th>\n",
       "      <th>creationDate</th>\n",
       "      <th>startDate</th>\n",
       "      <th>endDate</th>\n",
       "      <th>value</th>\n",
       "      <th>device</th>\n",
       "    </tr>\n",
       "  </thead>\n",
       "  <tbody>\n",
       "    <tr>\n",
       "      <th>743765</th>\n",
       "      <td>HeartRateVariabilitySDNN</td>\n",
       "      <td>Apple Watch von Patrick</td>\n",
       "      <td>7.6.1</td>\n",
       "      <td>ms</td>\n",
       "      <td>2021-08-20 21:44:34+02:00</td>\n",
       "      <td>2021-08-20 21:43:28+02:00</td>\n",
       "      <td>2021-08-20 21:44:34+02:00</td>\n",
       "      <td>106.2270</td>\n",
       "      <td>&lt;&lt;HKDevice: 0x2811a01e0&gt;, name:Apple Watch, ma...</td>\n",
       "    </tr>\n",
       "    <tr>\n",
       "      <th>743766</th>\n",
       "      <td>HeartRateVariabilitySDNN</td>\n",
       "      <td>Apple Watch von Patrick</td>\n",
       "      <td>7.6.1</td>\n",
       "      <td>ms</td>\n",
       "      <td>2021-08-20 21:48:35+02:00</td>\n",
       "      <td>2021-08-20 21:47:30+02:00</td>\n",
       "      <td>2021-08-20 21:48:35+02:00</td>\n",
       "      <td>60.9539</td>\n",
       "      <td>&lt;&lt;HKDevice: 0x2811a01e0&gt;, name:Apple Watch, ma...</td>\n",
       "    </tr>\n",
       "    <tr>\n",
       "      <th>743767</th>\n",
       "      <td>HeartRateVariabilitySDNN</td>\n",
       "      <td>Apple Watch von Patrick</td>\n",
       "      <td>7.6.1</td>\n",
       "      <td>ms</td>\n",
       "      <td>2021-08-22 08:19:29+02:00</td>\n",
       "      <td>2021-08-22 08:18:23+02:00</td>\n",
       "      <td>2021-08-22 08:19:29+02:00</td>\n",
       "      <td>71.2487</td>\n",
       "      <td>&lt;&lt;HKDevice: 0x2811a01e0&gt;, name:Apple Watch, ma...</td>\n",
       "    </tr>\n",
       "    <tr>\n",
       "      <th>743768</th>\n",
       "      <td>HeartRateVariabilitySDNN</td>\n",
       "      <td>Apple Watch von Patrick</td>\n",
       "      <td>7.6.1</td>\n",
       "      <td>ms</td>\n",
       "      <td>2021-08-22 09:52:59+02:00</td>\n",
       "      <td>2021-08-22 09:51:54+02:00</td>\n",
       "      <td>2021-08-22 09:52:59+02:00</td>\n",
       "      <td>87.2668</td>\n",
       "      <td>&lt;&lt;HKDevice: 0x2811a01e0&gt;, name:Apple Watch, ma...</td>\n",
       "    </tr>\n",
       "    <tr>\n",
       "      <th>743769</th>\n",
       "      <td>HeartRateVariabilitySDNN</td>\n",
       "      <td>Apple Watch von Patrick</td>\n",
       "      <td>7.6.1</td>\n",
       "      <td>ms</td>\n",
       "      <td>2021-08-22 14:00:49+02:00</td>\n",
       "      <td>2021-08-22 13:59:45+02:00</td>\n",
       "      <td>2021-08-22 14:00:49+02:00</td>\n",
       "      <td>42.2700</td>\n",
       "      <td>&lt;&lt;HKDevice: 0x2811a01e0&gt;, name:Apple Watch, ma...</td>\n",
       "    </tr>\n",
       "  </tbody>\n",
       "</table>\n",
       "</div>"
      ],
      "text/plain": [
       "                            type               sourceName sourceVersion unit  \\\n",
       "743765  HeartRateVariabilitySDNN  Apple Watch von Patrick         7.6.1   ms   \n",
       "743766  HeartRateVariabilitySDNN  Apple Watch von Patrick         7.6.1   ms   \n",
       "743767  HeartRateVariabilitySDNN  Apple Watch von Patrick         7.6.1   ms   \n",
       "743768  HeartRateVariabilitySDNN  Apple Watch von Patrick         7.6.1   ms   \n",
       "743769  HeartRateVariabilitySDNN  Apple Watch von Patrick         7.6.1   ms   \n",
       "\n",
       "                    creationDate                 startDate  \\\n",
       "743765 2021-08-20 21:44:34+02:00 2021-08-20 21:43:28+02:00   \n",
       "743766 2021-08-20 21:48:35+02:00 2021-08-20 21:47:30+02:00   \n",
       "743767 2021-08-22 08:19:29+02:00 2021-08-22 08:18:23+02:00   \n",
       "743768 2021-08-22 09:52:59+02:00 2021-08-22 09:51:54+02:00   \n",
       "743769 2021-08-22 14:00:49+02:00 2021-08-22 13:59:45+02:00   \n",
       "\n",
       "                         endDate     value  \\\n",
       "743765 2021-08-20 21:44:34+02:00  106.2270   \n",
       "743766 2021-08-20 21:48:35+02:00   60.9539   \n",
       "743767 2021-08-22 08:19:29+02:00   71.2487   \n",
       "743768 2021-08-22 09:52:59+02:00   87.2668   \n",
       "743769 2021-08-22 14:00:49+02:00   42.2700   \n",
       "\n",
       "                                                   device  \n",
       "743765  <<HKDevice: 0x2811a01e0>, name:Apple Watch, ma...  \n",
       "743766  <<HKDevice: 0x2811a01e0>, name:Apple Watch, ma...  \n",
       "743767  <<HKDevice: 0x2811a01e0>, name:Apple Watch, ma...  \n",
       "743768  <<HKDevice: 0x2811a01e0>, name:Apple Watch, ma...  \n",
       "743769  <<HKDevice: 0x2811a01e0>, name:Apple Watch, ma...  "
      ]
     },
     "execution_count": 65,
     "metadata": {},
     "output_type": "execute_result"
    }
   ],
   "source": [
    "record_data.tail()"
   ]
  },
  {
   "cell_type": "code",
   "execution_count": 66,
   "id": "b25f460b",
   "metadata": {},
   "outputs": [
    {
     "name": "stdout",
     "output_type": "stream",
     "text": [
      "<class 'pandas.core.frame.DataFrame'>\n",
      "RangeIndex: 743770 entries, 0 to 743769\n",
      "Data columns (total 9 columns):\n",
      " #   Column         Non-Null Count   Dtype                                \n",
      "---  ------         --------------   -----                                \n",
      " 0   type           743770 non-null  object                               \n",
      " 1   sourceName     743770 non-null  object                               \n",
      " 2   sourceVersion  738284 non-null  object                               \n",
      " 3   unit           739683 non-null  object                               \n",
      " 4   creationDate   743770 non-null  datetime64[ns, pytz.FixedOffset(120)]\n",
      " 5   startDate      743770 non-null  datetime64[ns, pytz.FixedOffset(120)]\n",
      " 6   endDate        743770 non-null  datetime64[ns, pytz.FixedOffset(120)]\n",
      " 7   value          743770 non-null  float64                              \n",
      " 8   device         697925 non-null  object                               \n",
      "dtypes: datetime64[ns, pytz.FixedOffset(120)](3), float64(1), object(5)\n",
      "memory usage: 51.1+ MB\n"
     ]
    }
   ],
   "source": [
    "record_data.info()"
   ]
  },
  {
   "cell_type": "code",
   "execution_count": 67,
   "id": "8b0198ea",
   "metadata": {},
   "outputs": [
    {
     "data": {
      "text/html": [
       "<div>\n",
       "<style scoped>\n",
       "    .dataframe tbody tr th:only-of-type {\n",
       "        vertical-align: middle;\n",
       "    }\n",
       "\n",
       "    .dataframe tbody tr th {\n",
       "        vertical-align: top;\n",
       "    }\n",
       "\n",
       "    .dataframe thead th {\n",
       "        text-align: right;\n",
       "    }\n",
       "</style>\n",
       "<table border=\"1\" class=\"dataframe\">\n",
       "  <thead>\n",
       "    <tr style=\"text-align: right;\">\n",
       "      <th></th>\n",
       "      <th>Type</th>\n",
       "      <th>duration</th>\n",
       "      <th>durationUnit</th>\n",
       "      <th>totalDistance</th>\n",
       "      <th>totalDistanceUnit</th>\n",
       "      <th>totalEnergyBurned</th>\n",
       "      <th>totalEnergyBurnedUnit</th>\n",
       "      <th>sourceName</th>\n",
       "      <th>sourceVersion</th>\n",
       "      <th>device</th>\n",
       "      <th>creationDate</th>\n",
       "      <th>startDate</th>\n",
       "      <th>endDate</th>\n",
       "    </tr>\n",
       "  </thead>\n",
       "  <tbody>\n",
       "    <tr>\n",
       "      <th>180</th>\n",
       "      <td>Running</td>\n",
       "      <td>18.876555</td>\n",
       "      <td>min</td>\n",
       "      <td>3.026288</td>\n",
       "      <td>km</td>\n",
       "      <td>202.358105</td>\n",
       "      <td>kcal</td>\n",
       "      <td>Apple Watch von Patrick</td>\n",
       "      <td>7.2</td>\n",
       "      <td>&lt;&lt;HKDevice: 0x2811cf160&gt;, name:Apple Watch, ma...</td>\n",
       "      <td>2021-08-18 08:08:20+02:00</td>\n",
       "      <td>2021-08-18 07:49:27+02:00</td>\n",
       "      <td>2021-08-18 08:08:19+02:00</td>\n",
       "    </tr>\n",
       "    <tr>\n",
       "      <th>181</th>\n",
       "      <td>Running</td>\n",
       "      <td>41.686440</td>\n",
       "      <td>min</td>\n",
       "      <td>7.154993</td>\n",
       "      <td>km</td>\n",
       "      <td>481.677116</td>\n",
       "      <td>kcal</td>\n",
       "      <td>Apple Watch von Patrick</td>\n",
       "      <td>7.2</td>\n",
       "      <td>&lt;&lt;HKDevice: 0x2811cf160&gt;, name:Apple Watch, ma...</td>\n",
       "      <td>2021-08-19 09:49:37+02:00</td>\n",
       "      <td>2021-08-19 09:07:54+02:00</td>\n",
       "      <td>2021-08-19 09:49:36+02:00</td>\n",
       "    </tr>\n",
       "    <tr>\n",
       "      <th>182</th>\n",
       "      <td>Running</td>\n",
       "      <td>19.186911</td>\n",
       "      <td>min</td>\n",
       "      <td>3.028681</td>\n",
       "      <td>km</td>\n",
       "      <td>201.441305</td>\n",
       "      <td>kcal</td>\n",
       "      <td>Apple Watch von Patrick</td>\n",
       "      <td>7.6.1</td>\n",
       "      <td>&lt;&lt;HKDevice: 0x2811da490&gt;, name:Apple Watch, ma...</td>\n",
       "      <td>2021-08-20 19:03:11+02:00</td>\n",
       "      <td>2021-08-20 18:43:58+02:00</td>\n",
       "      <td>2021-08-20 19:03:09+02:00</td>\n",
       "    </tr>\n",
       "    <tr>\n",
       "      <th>183</th>\n",
       "      <td>Running</td>\n",
       "      <td>20.134952</td>\n",
       "      <td>min</td>\n",
       "      <td>3.035656</td>\n",
       "      <td>km</td>\n",
       "      <td>199.521000</td>\n",
       "      <td>kcal</td>\n",
       "      <td>Apple Watch von Patrick</td>\n",
       "      <td>7.6.1</td>\n",
       "      <td>&lt;&lt;HKDevice: 0x2811da490&gt;, name:Apple Watch, ma...</td>\n",
       "      <td>2021-08-21 17:29:21+02:00</td>\n",
       "      <td>2021-08-21 17:09:11+02:00</td>\n",
       "      <td>2021-08-21 17:29:19+02:00</td>\n",
       "    </tr>\n",
       "    <tr>\n",
       "      <th>184</th>\n",
       "      <td>Yoga</td>\n",
       "      <td>22.080947</td>\n",
       "      <td>min</td>\n",
       "      <td>0.000000</td>\n",
       "      <td>km</td>\n",
       "      <td>50.902514</td>\n",
       "      <td>kcal</td>\n",
       "      <td>Apple Watch von Patrick</td>\n",
       "      <td>7.6.1</td>\n",
       "      <td>&lt;&lt;HKDevice: 0x2811da490&gt;, name:Apple Watch, ma...</td>\n",
       "      <td>2021-08-22 08:47:27+02:00</td>\n",
       "      <td>2021-08-22 08:25:21+02:00</td>\n",
       "      <td>2021-08-22 08:47:26+02:00</td>\n",
       "    </tr>\n",
       "  </tbody>\n",
       "</table>\n",
       "</div>"
      ],
      "text/plain": [
       "        Type   duration durationUnit  totalDistance totalDistanceUnit  \\\n",
       "180  Running  18.876555          min       3.026288                km   \n",
       "181  Running  41.686440          min       7.154993                km   \n",
       "182  Running  19.186911          min       3.028681                km   \n",
       "183  Running  20.134952          min       3.035656                km   \n",
       "184     Yoga  22.080947          min       0.000000                km   \n",
       "\n",
       "     totalEnergyBurned totalEnergyBurnedUnit               sourceName  \\\n",
       "180         202.358105                  kcal  Apple Watch von Patrick   \n",
       "181         481.677116                  kcal  Apple Watch von Patrick   \n",
       "182         201.441305                  kcal  Apple Watch von Patrick   \n",
       "183         199.521000                  kcal  Apple Watch von Patrick   \n",
       "184          50.902514                  kcal  Apple Watch von Patrick   \n",
       "\n",
       "    sourceVersion                                             device  \\\n",
       "180           7.2  <<HKDevice: 0x2811cf160>, name:Apple Watch, ma...   \n",
       "181           7.2  <<HKDevice: 0x2811cf160>, name:Apple Watch, ma...   \n",
       "182         7.6.1  <<HKDevice: 0x2811da490>, name:Apple Watch, ma...   \n",
       "183         7.6.1  <<HKDevice: 0x2811da490>, name:Apple Watch, ma...   \n",
       "184         7.6.1  <<HKDevice: 0x2811da490>, name:Apple Watch, ma...   \n",
       "\n",
       "                 creationDate                 startDate  \\\n",
       "180 2021-08-18 08:08:20+02:00 2021-08-18 07:49:27+02:00   \n",
       "181 2021-08-19 09:49:37+02:00 2021-08-19 09:07:54+02:00   \n",
       "182 2021-08-20 19:03:11+02:00 2021-08-20 18:43:58+02:00   \n",
       "183 2021-08-21 17:29:21+02:00 2021-08-21 17:09:11+02:00   \n",
       "184 2021-08-22 08:47:27+02:00 2021-08-22 08:25:21+02:00   \n",
       "\n",
       "                      endDate  \n",
       "180 2021-08-18 08:08:19+02:00  \n",
       "181 2021-08-19 09:49:36+02:00  \n",
       "182 2021-08-20 19:03:09+02:00  \n",
       "183 2021-08-21 17:29:19+02:00  \n",
       "184 2021-08-22 08:47:26+02:00  "
      ]
     },
     "execution_count": 67,
     "metadata": {},
     "output_type": "execute_result"
    }
   ],
   "source": [
    "workout_list = [x.attrib for x in root.iter('Workout')]\n",
    "\n",
    "# create DataFrame from a list (rows) of dictionaries (columns)\n",
    "workout_data = pd.DataFrame(workout_list)\n",
    "workout_data['workoutActivityType'] = workout_data['workoutActivityType'].str.replace('HKWorkoutActivityType', '')\n",
    "workout_data = workout_data.rename({\"workoutActivityType\": \"Type\"}, axis=1)\n",
    "# proper type to dates\n",
    "for col in ['creationDate', 'startDate', 'endDate']:\n",
    "    workout_data[col] = pd.to_datetime(workout_data[col])\n",
    "    \n",
    "workout_data['duration'] = pd.to_numeric(workout_data['duration'])\n",
    "workout_data['totalEnergyBurned'] = pd.to_numeric(workout_data['totalEnergyBurned'])\n",
    "workout_data['totalDistance'] = pd.to_numeric(workout_data['totalDistance'])\n",
    "workout_data.tail()"
   ]
  },
  {
   "cell_type": "code",
   "execution_count": 68,
   "id": "a9c05a3f",
   "metadata": {},
   "outputs": [
    {
     "data": {
      "text/html": [
       "<div>\n",
       "<style scoped>\n",
       "    .dataframe tbody tr th:only-of-type {\n",
       "        vertical-align: middle;\n",
       "    }\n",
       "\n",
       "    .dataframe tbody tr th {\n",
       "        vertical-align: top;\n",
       "    }\n",
       "\n",
       "    .dataframe thead th {\n",
       "        text-align: right;\n",
       "    }\n",
       "</style>\n",
       "<table border=\"1\" class=\"dataframe\">\n",
       "  <thead>\n",
       "    <tr style=\"text-align: right;\">\n",
       "      <th></th>\n",
       "      <th>Type</th>\n",
       "      <th>duration</th>\n",
       "      <th>durationUnit</th>\n",
       "      <th>totalDistance</th>\n",
       "      <th>totalDistanceUnit</th>\n",
       "      <th>totalEnergyBurned</th>\n",
       "      <th>totalEnergyBurnedUnit</th>\n",
       "      <th>sourceName</th>\n",
       "      <th>sourceVersion</th>\n",
       "      <th>device</th>\n",
       "      <th>creationDate</th>\n",
       "      <th>startDate</th>\n",
       "      <th>endDate</th>\n",
       "    </tr>\n",
       "  </thead>\n",
       "  <tbody>\n",
       "    <tr>\n",
       "      <th>183</th>\n",
       "      <td>Running</td>\n",
       "      <td>20.134952</td>\n",
       "      <td>min</td>\n",
       "      <td>3.035656</td>\n",
       "      <td>km</td>\n",
       "      <td>199.521</td>\n",
       "      <td>kcal</td>\n",
       "      <td>Apple Watch von Patrick</td>\n",
       "      <td>7.6.1</td>\n",
       "      <td>&lt;&lt;HKDevice: 0x2811da490&gt;, name:Apple Watch, ma...</td>\n",
       "      <td>2021-08-21 17:29:21+02:00</td>\n",
       "      <td>2021-08-21 17:09:11+02:00</td>\n",
       "      <td>2021-08-21 17:29:19+02:00</td>\n",
       "    </tr>\n",
       "  </tbody>\n",
       "</table>\n",
       "</div>"
      ],
      "text/plain": [
       "        Type   duration durationUnit  totalDistance totalDistanceUnit  \\\n",
       "183  Running  20.134952          min       3.035656                km   \n",
       "\n",
       "     totalEnergyBurned totalEnergyBurnedUnit               sourceName  \\\n",
       "183            199.521                  kcal  Apple Watch von Patrick   \n",
       "\n",
       "    sourceVersion                                             device  \\\n",
       "183         7.6.1  <<HKDevice: 0x2811da490>, name:Apple Watch, ma...   \n",
       "\n",
       "                 creationDate                 startDate  \\\n",
       "183 2021-08-21 17:29:21+02:00 2021-08-21 17:09:11+02:00   \n",
       "\n",
       "                      endDate  \n",
       "183 2021-08-21 17:29:19+02:00  "
      ]
     },
     "execution_count": 68,
     "metadata": {},
     "output_type": "execute_result"
    }
   ],
   "source": [
    "last_run = workout_data.iloc[[-2]]\n",
    "last_run"
   ]
  },
  {
   "cell_type": "code",
   "execution_count": 69,
   "id": "29bfeadd",
   "metadata": {},
   "outputs": [],
   "source": [
    "def get_heartrate_for_date(start, end, heartrate):\n",
    "    heartrate = heartrate[heartrate[\"startDate\"] >= start]\n",
    "    heartrate = heartrate[heartrate[\"endDate\"] <= end]\n",
    "    return heartrate\n",
    "\n",
    "def get_heartrate_for_workout(workout, heartrate):\n",
    "    return get_heartrate_for_date(workout[\"startDate\"].item(), workout[\"endDate\"].item(), heartrate)"
   ]
  },
  {
   "cell_type": "code",
   "execution_count": 70,
   "id": "fa4b7796",
   "metadata": {},
   "outputs": [
    {
     "data": {
      "text/plain": [
       "(73.0, 136.0, 125.71784232365145)"
      ]
     },
     "execution_count": 70,
     "metadata": {},
     "output_type": "execute_result"
    }
   ],
   "source": [
    "heartrate = record_data[record_data[\"type\"] == \"HeartRate\"]\n",
    "\n",
    "heartrate = get_heartrate_for_workout(last_run, heartrate)\n",
    "minh = heartrate[\"value\"].min()\n",
    "maxh = heartrate[\"value\"].max()\n",
    "meanh = heartrate[\"value\"].mean()\n",
    "minh, maxh, meanh"
   ]
  },
  {
   "cell_type": "code",
   "execution_count": 71,
   "id": "68be0af3",
   "metadata": {},
   "outputs": [
    {
     "data": {
      "text/plain": [
       "<AxesSubplot:xlabel='endDate'>"
      ]
     },
     "execution_count": 71,
     "metadata": {},
     "output_type": "execute_result"
    },
    {
     "data": {
      "image/png": "[encoded data removed]",
      "text/plain": [
       "<Figure size 864x432 with 1 Axes>"
      ]
     },
     "metadata": {
      "needs_background": "light"
     },
     "output_type": "display_data"
    }
   ],
   "source": [
    "heartrate.plot(x='endDate', y='value', style='r|', markersize=8.5,  figsize=(12, 6))"
   ]
  },
  {
   "cell_type": "code",
   "execution_count": 72,
   "id": "a15cb5d6",
   "metadata": {},
   "outputs": [],
   "source": [
    "today = dt.date.today()\n",
    "\n",
    "xdaysago = today - dt.timedelta(days=7)\n",
    "first_of_month = today - dt.timedelta(days=today.day - 1)"
   ]
  },
  {
   "cell_type": "code",
   "execution_count": 73,
   "id": "868b3b70",
   "metadata": {},
   "outputs": [
    {
     "data": {
      "text/plain": [
       "datetime.date(2021, 8, 22)"
      ]
     },
     "execution_count": 73,
     "metadata": {},
     "output_type": "execute_result"
    }
   ],
   "source": [
    "today"
   ]
  },
  {
   "cell_type": "code",
   "execution_count": 74,
   "id": "0718242f",
   "metadata": {},
   "outputs": [
    {
     "data": {
      "text/plain": [
       "datetime.date(2021, 8, 15)"
      ]
     },
     "execution_count": 74,
     "metadata": {},
     "output_type": "execute_result"
    }
   ],
   "source": [
    "xdaysago"
   ]
  },
  {
   "cell_type": "code",
   "execution_count": 75,
   "id": "ca6b2329",
   "metadata": {},
   "outputs": [
    {
     "data": {
      "text/plain": [
       "datetime.date(2021, 8, 1)"
      ]
     },
     "execution_count": 75,
     "metadata": {},
     "output_type": "execute_result"
    }
   ],
   "source": [
    "first_of_month"
   ]
  },
  {
   "cell_type": "code",
   "execution_count": 76,
   "id": "d4f6ffad",
   "metadata": {},
   "outputs": [],
   "source": [
    "xdaysago = today - dt.timedelta(days=33)\n",
    "\n",
    "time_to_check = pd.to_datetime(first_of_month, utc=True)\n",
    "time_to_check = pd.to_datetime(xdaysago, utc=True)\n",
    "runs_last_month = workout_data[workout_data[\"creationDate\"] >= time_to_check]\n",
    "runs_last_month = runs_last_month[runs_last_month[\"Type\"] == \"Running\"]\n",
    "runs_last_month = runs_last_month.drop(columns=[\"device\", \"sourceVersion\"])"
   ]
  },
  {
   "cell_type": "code",
   "execution_count": 77,
   "id": "8c7310fc",
   "metadata": {},
   "outputs": [
    {
     "data": {
      "text/plain": [
       "(755.4174678126972, 129.0223653750448, 8521.206610642746)"
      ]
     },
     "execution_count": 77,
     "metadata": {},
     "output_type": "execute_result"
    }
   ],
   "source": [
    "duration_sum = runs_last_month[\"duration\"].sum()\n",
    "distance_sum = runs_last_month[\"totalDistance\"].sum()\n",
    "energy_sum = runs_last_month[\"totalEnergyBurned\"].sum()\n",
    "duration_sum, distance_sum, energy_sum"
   ]
  },
  {
   "cell_type": "code",
   "execution_count": 78,
   "id": "f5e4c561",
   "metadata": {},
   "outputs": [
    {
     "data": {
      "text/plain": [
       "(22.89143841856658, 3.909768647728631, 258.2183821406893)"
      ]
     },
     "execution_count": 78,
     "metadata": {},
     "output_type": "execute_result"
    }
   ],
   "source": [
    "duration_avg = runs_last_month[\"duration\"].mean()\n",
    "distance_avg = runs_last_month[\"totalDistance\"].mean()\n",
    "energy_avg = runs_last_month[\"totalEnergyBurned\"].mean()\n",
    "duration_avg, distance_avg, energy_avg"
   ]
  },
  {
   "cell_type": "code",
   "execution_count": 79,
   "id": "330f1284",
   "metadata": {},
   "outputs": [],
   "source": [
    "def get_heartrate_for_workout(workout, heartrate):\n",
    "    return get_heartrate_for_date(workout[\"startDate\"], workout[\"endDate\"], heartrate)\n",
    "\n",
    "def convert_to_minute_proportion(number):\n",
    "    return int(number) + ((number % 1) / 100 * 60)\n",
    "heartrate = record_data[record_data[\"type\"] == \"HeartRate\"]\n",
    "runs_last_month[\"heartrate\"] = runs_last_month.apply(lambda row: get_heartrate_for_workout(row, heartrate), axis=1)\n",
    "runs_last_month[\"hr_mean\"] = runs_last_month.apply(lambda row: row['heartrate'][\"value\"].mean(), axis=1)\n",
    "pace = runs_last_month[\"duration\"] / runs_last_month[\"totalDistance\"]\n",
    "# convert decimals to minute percentage, pace=min/km\n",
    "pace = pace.apply(lambda row: convert_to_minute_proportion(row))\n",
    "runs_last_month[\"pace\"] = pace"
   ]
  },
  {
   "cell_type": "code",
   "execution_count": 80,
   "id": "3d4a4300",
   "metadata": {},
   "outputs": [
    {
     "data": {
      "text/html": [
       "<div>\n",
       "<style scoped>\n",
       "    .dataframe tbody tr th:only-of-type {\n",
       "        vertical-align: middle;\n",
       "    }\n",
       "\n",
       "    .dataframe tbody tr th {\n",
       "        vertical-align: top;\n",
       "    }\n",
       "\n",
       "    .dataframe thead th {\n",
       "        text-align: right;\n",
       "    }\n",
       "</style>\n",
       "<table border=\"1\" class=\"dataframe\">\n",
       "  <thead>\n",
       "    <tr style=\"text-align: right;\">\n",
       "      <th></th>\n",
       "      <th>duration</th>\n",
       "      <th>totalDistance</th>\n",
       "      <th>totalEnergyBurned</th>\n",
       "      <th>creationDate</th>\n",
       "    </tr>\n",
       "  </thead>\n",
       "  <tbody>\n",
       "    <tr>\n",
       "      <th>150</th>\n",
       "      <td>24.017083</td>\n",
       "      <td>4.021084</td>\n",
       "      <td>263.423771</td>\n",
       "      <td>2021-07-20 17:48:58+02:00</td>\n",
       "    </tr>\n",
       "    <tr>\n",
       "      <th>151</th>\n",
       "      <td>23.304460</td>\n",
       "      <td>4.025121</td>\n",
       "      <td>261.674000</td>\n",
       "      <td>2021-07-21 17:35:13+02:00</td>\n",
       "    </tr>\n",
       "    <tr>\n",
       "      <th>152</th>\n",
       "      <td>22.919020</td>\n",
       "      <td>4.027181</td>\n",
       "      <td>268.220008</td>\n",
       "      <td>2021-07-22 17:04:27+02:00</td>\n",
       "    </tr>\n",
       "    <tr>\n",
       "      <th>153</th>\n",
       "      <td>23.090579</td>\n",
       "      <td>4.281389</td>\n",
       "      <td>276.979934</td>\n",
       "      <td>2021-07-23 17:49:31+02:00</td>\n",
       "    </tr>\n",
       "    <tr>\n",
       "      <th>154</th>\n",
       "      <td>24.015762</td>\n",
       "      <td>4.119525</td>\n",
       "      <td>269.036218</td>\n",
       "      <td>2021-07-24 17:57:31+02:00</td>\n",
       "    </tr>\n",
       "  </tbody>\n",
       "</table>\n",
       "</div>"
      ],
      "text/plain": [
       "      duration  totalDistance  totalEnergyBurned              creationDate\n",
       "150  24.017083       4.021084         263.423771 2021-07-20 17:48:58+02:00\n",
       "151  23.304460       4.025121         261.674000 2021-07-21 17:35:13+02:00\n",
       "152  22.919020       4.027181         268.220008 2021-07-22 17:04:27+02:00\n",
       "153  23.090579       4.281389         276.979934 2021-07-23 17:49:31+02:00\n",
       "154  24.015762       4.119525         269.036218 2021-07-24 17:57:31+02:00"
      ]
     },
     "execution_count": 80,
     "metadata": {},
     "output_type": "execute_result"
    }
   ],
   "source": [
    "import matplotlib.pyplot as plt\n",
    "\n",
    "plot_data = runs_last_month[['duration', 'totalDistance', 'totalEnergyBurned', 'creationDate']].copy()\n",
    "plot_data.head()"
   ]
  },
  {
   "cell_type": "code",
   "execution_count": 81,
   "id": "15860703",
   "metadata": {},
   "outputs": [
    {
     "data": {
      "image/png": "[encoded data removed]",
      "text/plain": [
       "<Figure size 864x576 with 3 Axes>"
      ]
     },
     "metadata": {
      "needs_background": "light"
     },
     "output_type": "display_data"
    }
   ],
   "source": [
    "# plot hr, pace, distance\n",
    "fig, axs = plt.subplots(3, 1, figsize=(12, 8))\n",
    "\n",
    "x = runs_last_month['creationDate']\n",
    "axs[0].plot(x, runs_last_month[\"hr_mean\"], color=\"red\")\n",
    "axs[0].set_xlabel('Date')\n",
    "axs[0].set_ylabel('HR mean')\n",
    "axs[0].grid(True)\n",
    "\n",
    "axs[1].plot(x, runs_last_month[\"pace\"], color=\"blue\")\n",
    "axs[1].set_ylabel('Pace')\n",
    "axs[1].grid(True)\n",
    "\n",
    "axs[2].plot(x, runs_last_month[\"totalDistance\"], color=\"green\")\n",
    "axs[2].set_ylabel('Distance')\n",
    "axs[2].grid(True)\n",
    "\n",
    "fig.tight_layout()\n",
    "plt.show()"
   ]
  },
  {
   "cell_type": "code",
   "execution_count": 82,
   "id": "35e3cf85",
   "metadata": {},
   "outputs": [
    {
     "data": {
      "text/plain": [
       "(129.0223653750448,\n",
       " 12.354174678126972,\n",
       " 8521.206610642746,\n",
       " 143.81744261405984,\n",
       " 5.534279971791522)"
      ]
     },
     "execution_count": 82,
     "metadata": {},
     "output_type": "execute_result"
    }
   ],
   "source": [
    "# Get stats\n",
    "total_dist = runs_last_month[\"totalDistance\"].sum()\n",
    "total_time = runs_last_month[\"duration\"].sum() / 60\n",
    "total_time = convert_to_minute_proportion(total_time)\n",
    "total_kcal = runs_last_month[\"totalEnergyBurned\"].sum()\n",
    "hr_mean = runs_last_month[\"hr_mean\"].mean()\n",
    "pace_mean = (runs_last_month[\"duration\"] / runs_last_month[\"totalDistance\"]).mean()\n",
    "pace_mean = convert_to_minute_proportion(pace_mean)\n",
    "total_dist, total_time, total_kcal, hr_mean, pace_mean"
   ]
  },
  {
   "cell_type": "code",
   "execution_count": null,
   "id": "eeecc857",
   "metadata": {},
   "outputs": [],
   "source": []
  }
 ],
 "metadata": {
  "kernelspec": {
   "display_name": "ml",
   "language": "python",
   "name": "ml"
  },
  "language_info": {
   "codemirror_mode": {
    "name": "ipython",
    "version": 3
   },
   "file_extension": ".py",
   "mimetype": "text/x-python",
   "name": "python",
   "nbconvert_exporter": "python",
   "pygments_lexer": "ipython3",
   "version": "3.9.2"
  }
 },
 "nbformat": 4,
 "nbformat_minor": 5
}
